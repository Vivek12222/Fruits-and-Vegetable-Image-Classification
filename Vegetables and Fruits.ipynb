{
 "cells": [
  {
   "cell_type": "code",
   "execution_count": 1,
   "id": "5bf16958",
   "metadata": {},
   "outputs": [],
   "source": [
    "import numpy as np\n",
    "import pandas as pd\n",
    "import matplotlib.pyplot as plt\n",
    "import tensorflow as tf\n",
    "%matplotlib inline"
   ]
  },
  {
   "cell_type": "code",
   "execution_count": 2,
   "id": "e3568cd7",
   "metadata": {},
   "outputs": [],
   "source": [
    "from tensorflow.keras.models import Sequential, Model\n",
    "from tensorflow.keras.applications import VGG16, MobileNet\n",
    "from tensorflow.keras.optimizers import Adam\n",
    "from tensorflow.keras.preprocessing import image\n",
    "from tensorflow.keras.preprocessing.image import ImageDataGenerator\n",
    "from tensorflow.keras.metrics import categorical_crossentropy\n",
    "from tensorflow.keras.applications import imagenet_utils\n",
    "from sklearn.metrics import confusion_matrix, ConfusionMatrixDisplay\n",
    "from tensorflow.keras.layers import Activation, Dense, Flatten\n",
    "from tensorflow.keras.models import Model, Sequential\n",
    "import os\n",
    "import random \n",
    "import shutil\n",
    "import itertools"
   ]
  },
  {
   "cell_type": "code",
   "execution_count": 3,
   "id": "7411d959",
   "metadata": {},
   "outputs": [],
   "source": [
    "os.chdir(\"C:\\\\Users\\\\Vivek K N\\\\Images Dataset\\\\Vegetables and Fruits Detection Dataset\\\\\")"
   ]
  },
  {
   "cell_type": "code",
   "execution_count": 4,
   "id": "c8de46fd",
   "metadata": {},
   "outputs": [],
   "source": [
    "List_of_healthy_food = [\"apple\", \"banana\", \"beetroot\", \"bell pepper\", \"cabbage\", \"capsicum\", \"carrot\", \"cauliflower\", \"chilli pepper\", \"corn\", \"cucumber\", \"eggplant\", \"garlic\", \"ginger\", \"grapes\", \"jalepeno\", \"kiwi\", \"lemon\", \"lettuce\", \"mango\", \"onion\", \"orange\", \"paprika\", \"pear\", \"peas\", \"pineapple\", \"potato\", \"pomegranate\", \"raddish\", \"soy beans\", \"spinach\", \"sweetcorn\", \"sweetpotato\", \"tomato\", \"turnip\", \"watermelon\"]"
   ]
  },
  {
   "cell_type": "code",
   "execution_count": 5,
   "id": "cbb1ef15",
   "metadata": {},
   "outputs": [],
   "source": [
    "if os.path.isdir(\"C:\\\\Users\\\\Vivek K N\\\\Images Dataset\\\\Vegetables and Fruits Detection Dataset\\\\train\\\\\") is False:\n",
    "    os.makedirs(\"C:\\\\Users\\Vivek K N\\\\Images Dataset\\\\Vegetables and Fruits Detection Dataset\\\\train\\\\\")\n",
    "    os.makedirs(\"C:\\\\Users\\Vivek K N\\\\Images Dataset\\\\Vegetables and Fruits Detection Dataset\\\\valid\\\\\")\n",
    "    os.makedirs(\"C:\\\\Users\\Vivek K N\\\\Images Dataset\\\\Vegetables and Fruits Detection Dataset\\\\test\\\\\")\n",
    "    \n",
    "    for i in List_of_healthy_food:\n",
    "        shutil.move(f\"C:\\\\Users\\\\Vivek K N\\\\Images Dataset\\\\Vegetables and Fruits Detection Dataset\\\\{i}\", \"C:\\\\Users\\Vivek K N\\\\Dogs-vs-Cats Dataset\\\\Vegetables and Fruits Detection Dataset\\\\train\")\n",
    "        os.mkdir(f\"C:\\\\Users\\Vivek K N\\\\Images Dataset\\\\Vegetables and Fruits Detection Dataset\\\\valid\\\\{i}\")\n",
    "        os.mkdir(f\"C:\\\\Users\\Vivek K N\\\\Images Dataset\\\\Vegetables and Fruits Detection Dataset\\\\test\\\\{i}\")\n",
    "        \n",
    "        valid_samples = random.sample(os.listdir(path=f\"C:\\\\Users\\Vivek K N\\\\Images Dataset\\\\Vegetables and Fruits Detection Dataset\\\\train\\\\{i}\"), 3)\n",
    "        for j in valid_samples:\n",
    "            shutil.move(f\"C:\\\\Users\\Vivek K N\\\\Images Dataset\\\\Vegetables and Fruits Detection Dataset\\\\train\\\\{i}\\\\{j}\", f\"C:\\\\Users\\Vivek K N\\\\Images Dataset\\\\Vegetables and Fruits Detection Dataset\\\\valid\\\\{i}\")\n",
    "            \n",
    "        test_samples = random.sample(os.listdir(path=f\"C:\\\\Users\\Vivek K N\\\\Images Dataset\\\\Vegetables and Fruits Detection Dataset\\\\train\\\\{i}\"), 2)\n",
    "        \n",
    "        for k in test_samples:\n",
    "            shutil.move(f\"C:\\\\Users\\Vivek K N\\\\Images Dataset\\\\Vegetables and Fruits Detection Dataset\\\\train\\\\{i}\\\\{k}\", f\"C:\\\\Users\\Vivek K N\\\\Images Dataset\\\\Vegetables and Fruits Detection Dataset\\\\test\\\\{i}\")"
   ]
  },
  {
   "cell_type": "code",
   "execution_count": 6,
   "id": "a6446de4",
   "metadata": {},
   "outputs": [],
   "source": [
    "train_path = \"C:\\\\Users\\\\Vivek K N\\\\Images Dataset\\\\Vegetables and Fruits Detection Dataset\\\\train\\\\\"\n",
    "valid_path = \"C:\\\\Users\\\\Vivek K N\\\\Images Dataset\\\\Vegetables and Fruits Detection Dataset\\\\valid\\\\\"\n",
    "test_path = \"C:\\\\Users\\\\Vivek K N\\\\Images Dataset\\\\Vegetables and Fruits Detection Dataset\\\\test\\\\\""
   ]
  },
  {
   "cell_type": "code",
   "execution_count": 7,
   "id": "299615a0",
   "metadata": {},
   "outputs": [
    {
     "name": "stdout",
     "output_type": "stream",
     "text": [
      "Found 179 images belonging to 36 classes.\n",
      "Found 72 images belonging to 36 classes.\n",
      "Found 108 images belonging to 36 classes.\n"
     ]
    }
   ],
   "source": [
    "train_samples = ImageDataGenerator(preprocessing_function=tf.keras.applications.vgg16.preprocess_input).flow_from_directory(directory = train_path, batch_size=2, target_size=(224,224))\n",
    "test_samples = ImageDataGenerator(preprocessing_function=tf.keras.applications.vgg16.preprocess_input).flow_from_directory(directory = test_path, batch_size=2, target_size=(224,224))\n",
    "valid_samples = ImageDataGenerator(preprocessing_function=tf.keras.applications.vgg16.preprocess_input).flow_from_directory(directory = valid_path, batch_size=2, target_size=(224,224), shuffle=False)"
   ]
  },
  {
   "cell_type": "code",
   "execution_count": 8,
   "id": "6eaf3179",
   "metadata": {},
   "outputs": [],
   "source": [
    "assert train_samples.n == 179\n",
    "assert test_samples.n == 72\n",
    "assert valid_samples.n == 108\n",
    "assert train_samples.num_classes == test_samples.num_classes == valid_samples.num_classes"
   ]
  },
  {
   "cell_type": "code",
   "execution_count": 9,
   "id": "175dd561",
   "metadata": {},
   "outputs": [],
   "source": [
    "image, labels = next(train_samples)"
   ]
  },
  {
   "cell_type": "code",
   "execution_count": 10,
   "id": "e468565d",
   "metadata": {},
   "outputs": [],
   "source": [
    "def plot_Images(images_array):\n",
    "    fig, axes = plt.subplots(1, 10, figsize=(10, 10))\n",
    "    axes = axes.flatten()\n",
    "    for img, ax in zip(images_array, axes):\n",
    "        ax.imshow(img)\n",
    "        ax.axis(\"off\")\n",
    "    plt.tight_layout()\n",
    "    plt.show()"
   ]
  },
  {
   "cell_type": "markdown",
   "id": "232bf351",
   "metadata": {},
   "source": [
    "The Above Function is standared function to display the images of the dataset when images is passed as argument in form of image array."
   ]
  },
  {
   "cell_type": "markdown",
   "id": "76c6aa97",
   "metadata": {},
   "source": [
    "## Training The Model Using VGG16 Architecture"
   ]
  },
  {
   "cell_type": "code",
   "execution_count": 11,
   "id": "806aeb24",
   "metadata": {},
   "outputs": [],
   "source": [
    "Models = tf.keras.applications.vgg16.VGG16()"
   ]
  },
  {
   "cell_type": "code",
   "execution_count": 12,
   "id": "c2b9eb51",
   "metadata": {},
   "outputs": [
    {
     "name": "stdout",
     "output_type": "stream",
     "text": [
      "Model: \"vgg16\"\n",
      "_________________________________________________________________\n",
      " Layer (type)                Output Shape              Param #   \n",
      "=================================================================\n",
      " input_1 (InputLayer)        [(None, 224, 224, 3)]     0         \n",
      "                                                                 \n",
      " block1_conv1 (Conv2D)       (None, 224, 224, 64)      1792      \n",
      "                                                                 \n",
      " block1_conv2 (Conv2D)       (None, 224, 224, 64)      36928     \n",
      "                                                                 \n",
      " block1_pool (MaxPooling2D)  (None, 112, 112, 64)      0         \n",
      "                                                                 \n",
      " block2_conv1 (Conv2D)       (None, 112, 112, 128)     73856     \n",
      "                                                                 \n",
      " block2_conv2 (Conv2D)       (None, 112, 112, 128)     147584    \n",
      "                                                                 \n",
      " block2_pool (MaxPooling2D)  (None, 56, 56, 128)       0         \n",
      "                                                                 \n",
      " block3_conv1 (Conv2D)       (None, 56, 56, 256)       295168    \n",
      "                                                                 \n",
      " block3_conv2 (Conv2D)       (None, 56, 56, 256)       590080    \n",
      "                                                                 \n",
      " block3_conv3 (Conv2D)       (None, 56, 56, 256)       590080    \n",
      "                                                                 \n",
      " block3_pool (MaxPooling2D)  (None, 28, 28, 256)       0         \n",
      "                                                                 \n",
      " block4_conv1 (Conv2D)       (None, 28, 28, 512)       1180160   \n",
      "                                                                 \n",
      " block4_conv2 (Conv2D)       (None, 28, 28, 512)       2359808   \n",
      "                                                                 \n",
      " block4_conv3 (Conv2D)       (None, 28, 28, 512)       2359808   \n",
      "                                                                 \n",
      " block4_pool (MaxPooling2D)  (None, 14, 14, 512)       0         \n",
      "                                                                 \n",
      " block5_conv1 (Conv2D)       (None, 14, 14, 512)       2359808   \n",
      "                                                                 \n",
      " block5_conv2 (Conv2D)       (None, 14, 14, 512)       2359808   \n",
      "                                                                 \n",
      " block5_conv3 (Conv2D)       (None, 14, 14, 512)       2359808   \n",
      "                                                                 \n",
      " block5_pool (MaxPooling2D)  (None, 7, 7, 512)         0         \n",
      "                                                                 \n",
      " flatten (Flatten)           (None, 25088)             0         \n",
      "                                                                 \n",
      " fc1 (Dense)                 (None, 4096)              102764544 \n",
      "                                                                 \n",
      " fc2 (Dense)                 (None, 4096)              16781312  \n",
      "                                                                 \n",
      " predictions (Dense)         (None, 1000)              4097000   \n",
      "                                                                 \n",
      "=================================================================\n",
      "Total params: 138357544 (527.79 MB)\n",
      "Trainable params: 138357544 (527.79 MB)\n",
      "Non-trainable params: 0 (0.00 Byte)\n",
      "_________________________________________________________________\n"
     ]
    }
   ],
   "source": [
    "Models.summary()"
   ]
  },
  {
   "cell_type": "code",
   "execution_count": 13,
   "id": "ab79ad88",
   "metadata": {},
   "outputs": [],
   "source": [
    "model = Sequential()\n",
    "for layers in Models.layers[:-1]:\n",
    "    model.add(layers)"
   ]
  },
  {
   "cell_type": "code",
   "execution_count": 14,
   "id": "801b2362",
   "metadata": {},
   "outputs": [],
   "source": [
    "for layer in model.layers:\n",
    "    layer.trainable = False"
   ]
  },
  {
   "cell_type": "code",
   "execution_count": 15,
   "id": "9be287ae",
   "metadata": {},
   "outputs": [],
   "source": [
    "model.add(Dense(units=36, activation=\"softmax\"))"
   ]
  },
  {
   "cell_type": "code",
   "execution_count": 16,
   "id": "2cc7f2ee",
   "metadata": {},
   "outputs": [
    {
     "name": "stdout",
     "output_type": "stream",
     "text": [
      "Model: \"sequential\"\n",
      "_________________________________________________________________\n",
      " Layer (type)                Output Shape              Param #   \n",
      "=================================================================\n",
      " block1_conv1 (Conv2D)       (None, 224, 224, 64)      1792      \n",
      "                                                                 \n",
      " block1_conv2 (Conv2D)       (None, 224, 224, 64)      36928     \n",
      "                                                                 \n",
      " block1_pool (MaxPooling2D)  (None, 112, 112, 64)      0         \n",
      "                                                                 \n",
      " block2_conv1 (Conv2D)       (None, 112, 112, 128)     73856     \n",
      "                                                                 \n",
      " block2_conv2 (Conv2D)       (None, 112, 112, 128)     147584    \n",
      "                                                                 \n",
      " block2_pool (MaxPooling2D)  (None, 56, 56, 128)       0         \n",
      "                                                                 \n",
      " block3_conv1 (Conv2D)       (None, 56, 56, 256)       295168    \n",
      "                                                                 \n",
      " block3_conv2 (Conv2D)       (None, 56, 56, 256)       590080    \n",
      "                                                                 \n",
      " block3_conv3 (Conv2D)       (None, 56, 56, 256)       590080    \n",
      "                                                                 \n",
      " block3_pool (MaxPooling2D)  (None, 28, 28, 256)       0         \n",
      "                                                                 \n",
      " block4_conv1 (Conv2D)       (None, 28, 28, 512)       1180160   \n",
      "                                                                 \n",
      " block4_conv2 (Conv2D)       (None, 28, 28, 512)       2359808   \n",
      "                                                                 \n",
      " block4_conv3 (Conv2D)       (None, 28, 28, 512)       2359808   \n",
      "                                                                 \n",
      " block4_pool (MaxPooling2D)  (None, 14, 14, 512)       0         \n",
      "                                                                 \n",
      " block5_conv1 (Conv2D)       (None, 14, 14, 512)       2359808   \n",
      "                                                                 \n",
      " block5_conv2 (Conv2D)       (None, 14, 14, 512)       2359808   \n",
      "                                                                 \n",
      " block5_conv3 (Conv2D)       (None, 14, 14, 512)       2359808   \n",
      "                                                                 \n",
      " block5_pool (MaxPooling2D)  (None, 7, 7, 512)         0         \n",
      "                                                                 \n",
      " flatten (Flatten)           (None, 25088)             0         \n",
      "                                                                 \n",
      " fc1 (Dense)                 (None, 4096)              102764544 \n",
      "                                                                 \n",
      " fc2 (Dense)                 (None, 4096)              16781312  \n",
      "                                                                 \n",
      " dense (Dense)               (None, 36)                147492    \n",
      "                                                                 \n",
      "=================================================================\n",
      "Total params: 134408036 (512.73 MB)\n",
      "Trainable params: 147492 (576.14 KB)\n",
      "Non-trainable params: 134260544 (512.16 MB)\n",
      "_________________________________________________________________\n"
     ]
    }
   ],
   "source": [
    "model.summary()"
   ]
  },
  {
   "cell_type": "markdown",
   "id": "5f0c12d4",
   "metadata": {},
   "source": [
    "## Train The Model"
   ]
  },
  {
   "cell_type": "code",
   "execution_count": 17,
   "id": "ac457b93",
   "metadata": {},
   "outputs": [],
   "source": [
    "model.compile(optimizer = Adam(learning_rate=0.0001), loss=\"sparse_categorical_crossentropy\", metrics = [\"accuracy\"])"
   ]
  },
  {
   "cell_type": "code",
   "execution_count": 18,
   "id": "ff92f223",
   "metadata": {},
   "outputs": [],
   "source": [
    "predictions = model.predict(x=test_samples, verbose=0)"
   ]
  },
  {
   "cell_type": "code",
   "execution_count": 19,
   "id": "cb934a44",
   "metadata": {},
   "outputs": [],
   "source": [
    "cm = confusion_matrix(test_samples.classes, np.argmax(predictions, axis=1))"
   ]
  },
  {
   "cell_type": "code",
   "execution_count": 20,
   "id": "55804fb1",
   "metadata": {},
   "outputs": [
    {
     "data": {
      "text/plain": [
       "<sklearn.metrics._plot.confusion_matrix.ConfusionMatrixDisplay at 0x14ade0e3220>"
      ]
     },
     "execution_count": 20,
     "metadata": {},
     "output_type": "execute_result"
    },
    {
     "data": {
      "image/png": "[encoded data removed]",
      "text/plain": [
       "<Figure size 640x480 with 2 Axes>"
      ]
     },
     "metadata": {},
     "output_type": "display_data"
    }
   ],
   "source": [
    "ConfusionMatrixDisplay(cm).plot()"
   ]
  }
 ],
 "metadata": {
  "kernelspec": {
   "display_name": "Python 3 (ipykernel)",
   "language": "python",
   "name": "python3"
  },
  "language_info": {
   "codemirror_mode": {
    "name": "ipython",
    "version": 3
   },
   "file_extension": ".py",
   "mimetype": "text/x-python",
   "name": "python",
   "nbconvert_exporter": "python",
   "pygments_lexer": "ipython3",
   "version": "3.10.9"
  }
 },
 "nbformat": 4,
 "nbformat_minor": 5
}
